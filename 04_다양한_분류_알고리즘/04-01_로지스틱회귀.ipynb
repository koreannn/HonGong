{
 "cells": [
  {
   "cell_type": "markdown",
   "id": "1382399a",
   "metadata": {},
   "source": [
    "# 데이터 준비"
   ]
  },
  {
   "cell_type": "code",
   "execution_count": 8,
   "id": "22af6e90",
   "metadata": {},
   "outputs": [
    {
     "name": "stdout",
     "output_type": "stream",
     "text": [
      "159\n"
     ]
    },
    {
     "data": {
      "text/html": [
       "<div>\n",
       "<style scoped>\n",
       "    .dataframe tbody tr th:only-of-type {\n",
       "        vertical-align: middle;\n",
       "    }\n",
       "\n",
       "    .dataframe tbody tr th {\n",
       "        vertical-align: top;\n",
       "    }\n",
       "\n",
       "    .dataframe thead th {\n",
       "        text-align: right;\n",
       "    }\n",
       "</style>\n",
       "<table border=\"1\" class=\"dataframe\">\n",
       "  <thead>\n",
       "    <tr style=\"text-align: right;\">\n",
       "      <th></th>\n",
       "      <th>Species</th>\n",
       "      <th>Weight</th>\n",
       "      <th>Length</th>\n",
       "      <th>Diagonal</th>\n",
       "      <th>Height</th>\n",
       "      <th>Width</th>\n",
       "    </tr>\n",
       "  </thead>\n",
       "  <tbody>\n",
       "    <tr>\n",
       "      <th>0</th>\n",
       "      <td>Bream</td>\n",
       "      <td>242.0</td>\n",
       "      <td>25.4</td>\n",
       "      <td>30.0</td>\n",
       "      <td>11.5200</td>\n",
       "      <td>4.0200</td>\n",
       "    </tr>\n",
       "    <tr>\n",
       "      <th>1</th>\n",
       "      <td>Bream</td>\n",
       "      <td>290.0</td>\n",
       "      <td>26.3</td>\n",
       "      <td>31.2</td>\n",
       "      <td>12.4800</td>\n",
       "      <td>4.3056</td>\n",
       "    </tr>\n",
       "    <tr>\n",
       "      <th>2</th>\n",
       "      <td>Bream</td>\n",
       "      <td>340.0</td>\n",
       "      <td>26.5</td>\n",
       "      <td>31.1</td>\n",
       "      <td>12.3778</td>\n",
       "      <td>4.6961</td>\n",
       "    </tr>\n",
       "    <tr>\n",
       "      <th>3</th>\n",
       "      <td>Bream</td>\n",
       "      <td>363.0</td>\n",
       "      <td>29.0</td>\n",
       "      <td>33.5</td>\n",
       "      <td>12.7300</td>\n",
       "      <td>4.4555</td>\n",
       "    </tr>\n",
       "    <tr>\n",
       "      <th>4</th>\n",
       "      <td>Bream</td>\n",
       "      <td>430.0</td>\n",
       "      <td>29.0</td>\n",
       "      <td>34.0</td>\n",
       "      <td>12.4440</td>\n",
       "      <td>5.1340</td>\n",
       "    </tr>\n",
       "  </tbody>\n",
       "</table>\n",
       "</div>"
      ],
      "text/plain": [
       "  Species  Weight  Length  Diagonal   Height   Width\n",
       "0   Bream   242.0    25.4      30.0  11.5200  4.0200\n",
       "1   Bream   290.0    26.3      31.2  12.4800  4.3056\n",
       "2   Bream   340.0    26.5      31.1  12.3778  4.6961\n",
       "3   Bream   363.0    29.0      33.5  12.7300  4.4555\n",
       "4   Bream   430.0    29.0      34.0  12.4440  5.1340"
      ]
     },
     "execution_count": 8,
     "metadata": {},
     "output_type": "execute_result"
    }
   ],
   "source": [
    "import pandas as pd\n",
    "\n",
    "fish = pd.read_csv('https://bit.ly/fish_csv_data')\n",
    "print(len(fish))\n",
    "fish.head()"
   ]
  },
  {
   "cell_type": "code",
   "execution_count": 2,
   "id": "d3fdb9fc",
   "metadata": {},
   "outputs": [
    {
     "name": "stdout",
     "output_type": "stream",
     "text": [
      "['Bream' 'Roach' 'Whitefish' 'Parkki' 'Perch' 'Pike' 'Smelt']\n"
     ]
    }
   ],
   "source": [
    "print(pd.unique(fish['Species']))"
   ]
  },
  {
   "cell_type": "markdown",
   "id": "158360ac",
   "metadata": {},
   "source": [
    "입력 피쳐와 타겟 피쳐 분리"
   ]
  },
  {
   "cell_type": "code",
   "execution_count": 7,
   "id": "ccc083cd",
   "metadata": {},
   "outputs": [
    {
     "name": "stdout",
     "output_type": "stream",
     "text": [
      "     Weight  Length  Diagonal   Height   Width\n",
      "0     242.0    25.4      30.0  11.5200  4.0200\n",
      "1     290.0    26.3      31.2  12.4800  4.3056\n",
      "2     340.0    26.5      31.1  12.3778  4.6961\n",
      "3     363.0    29.0      33.5  12.7300  4.4555\n",
      "4     430.0    29.0      34.0  12.4440  5.1340\n",
      "..      ...     ...       ...      ...     ...\n",
      "154    12.2    12.2      13.4   2.0904  1.3936\n",
      "155    13.4    12.4      13.5   2.4300  1.2690\n",
      "156    12.2    13.0      13.8   2.2770  1.2558\n",
      "157    19.7    14.3      15.2   2.8728  2.0672\n",
      "158    19.9    15.0      16.2   2.9322  1.8792\n",
      "\n",
      "[159 rows x 5 columns]\n",
      "0      Bream\n",
      "1      Bream\n",
      "2      Bream\n",
      "3      Bream\n",
      "4      Bream\n",
      "       ...  \n",
      "154    Smelt\n",
      "155    Smelt\n",
      "156    Smelt\n",
      "157    Smelt\n",
      "158    Smelt\n",
      "Name: Species, Length: 159, dtype: object\n"
     ]
    }
   ],
   "source": [
    "fish_input = fish[['Weight','Length','Diagonal','Height','Width']]\n",
    "fish_target = fish['Species']\n",
    "\n",
    "print(fish_input)\n",
    "print(fish_target)"
   ]
  },
  {
   "cell_type": "code",
   "execution_count": 15,
   "id": "2e87a7e6",
   "metadata": {},
   "outputs": [
    {
     "name": "stdout",
     "output_type": "stream",
     "text": [
      "119\n",
      "40\n"
     ]
    }
   ],
   "source": [
    "from sklearn.model_selection import train_test_split\n",
    "\n",
    "train_input, test_input, train_target, test_target = train_test_split(fish_input, fish_target, random_state=42)\n",
    "\n",
    "print(len(train_input))\n",
    "print(len(test_input))"
   ]
  },
  {
   "cell_type": "code",
   "execution_count": 16,
   "id": "de4d335c",
   "metadata": {},
   "outputs": [
    {
     "data": {
      "text/html": [
       "<div>\n",
       "<style scoped>\n",
       "    .dataframe tbody tr th:only-of-type {\n",
       "        vertical-align: middle;\n",
       "    }\n",
       "\n",
       "    .dataframe tbody tr th {\n",
       "        vertical-align: top;\n",
       "    }\n",
       "\n",
       "    .dataframe thead th {\n",
       "        text-align: right;\n",
       "    }\n",
       "</style>\n",
       "<table border=\"1\" class=\"dataframe\">\n",
       "  <thead>\n",
       "    <tr style=\"text-align: right;\">\n",
       "      <th></th>\n",
       "      <th>Weight</th>\n",
       "      <th>Length</th>\n",
       "      <th>Diagonal</th>\n",
       "      <th>Height</th>\n",
       "      <th>Width</th>\n",
       "    </tr>\n",
       "  </thead>\n",
       "  <tbody>\n",
       "    <tr>\n",
       "      <th>26</th>\n",
       "      <td>720.0</td>\n",
       "      <td>35.0</td>\n",
       "      <td>40.6</td>\n",
       "      <td>16.3618</td>\n",
       "      <td>6.0900</td>\n",
       "    </tr>\n",
       "    <tr>\n",
       "      <th>137</th>\n",
       "      <td>500.0</td>\n",
       "      <td>45.0</td>\n",
       "      <td>48.0</td>\n",
       "      <td>6.9600</td>\n",
       "      <td>4.8960</td>\n",
       "    </tr>\n",
       "    <tr>\n",
       "      <th>146</th>\n",
       "      <td>7.5</td>\n",
       "      <td>10.5</td>\n",
       "      <td>11.6</td>\n",
       "      <td>1.9720</td>\n",
       "      <td>1.1600</td>\n",
       "    </tr>\n",
       "    <tr>\n",
       "      <th>90</th>\n",
       "      <td>110.0</td>\n",
       "      <td>22.0</td>\n",
       "      <td>23.5</td>\n",
       "      <td>5.5225</td>\n",
       "      <td>3.9950</td>\n",
       "    </tr>\n",
       "    <tr>\n",
       "      <th>66</th>\n",
       "      <td>140.0</td>\n",
       "      <td>20.7</td>\n",
       "      <td>23.2</td>\n",
       "      <td>8.5376</td>\n",
       "      <td>3.2944</td>\n",
       "    </tr>\n",
       "    <tr>\n",
       "      <th>...</th>\n",
       "      <td>...</td>\n",
       "      <td>...</td>\n",
       "      <td>...</td>\n",
       "      <td>...</td>\n",
       "      <td>...</td>\n",
       "    </tr>\n",
       "    <tr>\n",
       "      <th>71</th>\n",
       "      <td>300.0</td>\n",
       "      <td>26.0</td>\n",
       "      <td>29.0</td>\n",
       "      <td>11.3680</td>\n",
       "      <td>4.2340</td>\n",
       "    </tr>\n",
       "    <tr>\n",
       "      <th>106</th>\n",
       "      <td>250.0</td>\n",
       "      <td>28.0</td>\n",
       "      <td>29.4</td>\n",
       "      <td>7.8204</td>\n",
       "      <td>4.2042</td>\n",
       "    </tr>\n",
       "    <tr>\n",
       "      <th>14</th>\n",
       "      <td>600.0</td>\n",
       "      <td>32.0</td>\n",
       "      <td>37.2</td>\n",
       "      <td>14.9544</td>\n",
       "      <td>5.1708</td>\n",
       "    </tr>\n",
       "    <tr>\n",
       "      <th>92</th>\n",
       "      <td>150.0</td>\n",
       "      <td>22.5</td>\n",
       "      <td>24.0</td>\n",
       "      <td>6.7920</td>\n",
       "      <td>3.6240</td>\n",
       "    </tr>\n",
       "    <tr>\n",
       "      <th>102</th>\n",
       "      <td>300.0</td>\n",
       "      <td>27.3</td>\n",
       "      <td>28.7</td>\n",
       "      <td>8.3230</td>\n",
       "      <td>5.1373</td>\n",
       "    </tr>\n",
       "  </tbody>\n",
       "</table>\n",
       "<p>119 rows × 5 columns</p>\n",
       "</div>"
      ],
      "text/plain": [
       "     Weight  Length  Diagonal   Height   Width\n",
       "26    720.0    35.0      40.6  16.3618  6.0900\n",
       "137   500.0    45.0      48.0   6.9600  4.8960\n",
       "146     7.5    10.5      11.6   1.9720  1.1600\n",
       "90    110.0    22.0      23.5   5.5225  3.9950\n",
       "66    140.0    20.7      23.2   8.5376  3.2944\n",
       "..      ...     ...       ...      ...     ...\n",
       "71    300.0    26.0      29.0  11.3680  4.2340\n",
       "106   250.0    28.0      29.4   7.8204  4.2042\n",
       "14    600.0    32.0      37.2  14.9544  5.1708\n",
       "92    150.0    22.5      24.0   6.7920  3.6240\n",
       "102   300.0    27.3      28.7   8.3230  5.1373\n",
       "\n",
       "[119 rows x 5 columns]"
      ]
     },
     "execution_count": 16,
     "metadata": {},
     "output_type": "execute_result"
    }
   ],
   "source": [
    "train_input"
   ]
  },
  {
   "cell_type": "markdown",
   "id": "473727b9",
   "metadata": {},
   "source": [
    "---\n",
    "# 데이터 전처리 및 성능(`.score()`)확인"
   ]
  },
  {
   "cell_type": "code",
   "execution_count": 18,
   "id": "0145e925",
   "metadata": {},
   "outputs": [
    {
     "data": {
      "text/plain": [
       "array([[ 0.91965782,  0.60943175,  0.81041221,  1.85194896,  1.00075672],\n",
       "       [ 0.30041219,  1.54653445,  1.45316551, -0.46981663,  0.27291745],\n",
       "       [-1.0858536 , -1.68646987, -1.70848587, -1.70159849, -2.0044758 ],\n",
       "       [-0.79734143, -0.60880176, -0.67486907, -0.82480589, -0.27631471],\n",
       "       [-0.71289885, -0.73062511, -0.70092664, -0.0802298 , -0.7033869 ]])"
      ]
     },
     "execution_count": 18,
     "metadata": {},
     "output_type": "execute_result"
    }
   ],
   "source": [
    "from sklearn.preprocessing import StandardScaler\n",
    "\n",
    "ss = StandardScaler()\n",
    "ss.fit(train_input)\n",
    "train_input_scaled = ss.transform(train_input)\n",
    "test_input_scaled = ss.transform(test_input)\n",
    "\n",
    "train_input_scaled[:5]"
   ]
  },
  {
   "cell_type": "code",
   "execution_count": 19,
   "id": "66c8462d",
   "metadata": {},
   "outputs": [
    {
     "name": "stdout",
     "output_type": "stream",
     "text": [
      "0.8907563025210085\n",
      "0.85\n"
     ]
    }
   ],
   "source": [
    "from sklearn.neighbors import KNeighborsClassifier\n",
    "\n",
    "kn = KNeighborsClassifier(n_neighbors=3)\n",
    "kn.fit(train_input_scaled, train_target)\n",
    "\n",
    "print(kn.score(train_input_scaled, train_target))\n",
    "print(kn.score(test_input_scaled, test_target))"
   ]
  },
  {
   "cell_type": "markdown",
   "id": "366df4ba",
   "metadata": {},
   "source": [
    "점수는 일단 신경쓰지 말자."
   ]
  },
  {
   "cell_type": "markdown",
   "id": "636ea45f",
   "metadata": {},
   "source": [
    "### `score()`는 개별 샘플의 타겟을 정확히 찾아내는지에 대한 점수(Accuracy)\n",
    "- 현재 구하고자하는 것은 특정 샘플이 각 타겟 중 몇퍼센트확률일지를 찾아내는것\n",
    "- 클래스의 개수만 늘었을 뿐임(다중 분류)\n",
    "    - (참고)정렬된 클래스 정보를 확인하는 방법은 아래와 같음"
   ]
  },
  {
   "cell_type": "code",
   "execution_count": 20,
   "id": "a5f7fc9d",
   "metadata": {},
   "outputs": [
    {
     "name": "stdout",
     "output_type": "stream",
     "text": [
      "['Bream' 'Parkki' 'Perch' 'Pike' 'Roach' 'Smelt' 'Whitefish']\n"
     ]
    }
   ],
   "source": [
    "print(kn.classes_)"
   ]
  },
  {
   "cell_type": "markdown",
   "id": "92b5e123",
   "metadata": {},
   "source": [
    "---\n",
    "# 각 클래스별 확률값 찾아보기\n",
    "- 사이킷런의 `.predict()`메서드는 예측을 레이블 이름으로 한다. 예를 들면 아래와 같은 식이다."
   ]
  },
  {
   "cell_type": "code",
   "execution_count": 21,
   "id": "56b76c79",
   "metadata": {},
   "outputs": [
    {
     "name": "stdout",
     "output_type": "stream",
     "text": [
      "['Perch' 'Smelt' 'Pike' 'Perch' 'Perch' 'Bream' 'Smelt' 'Roach' 'Perch'\n",
      " 'Pike' 'Bream' 'Perch' 'Bream' 'Parkki' 'Bream' 'Bream' 'Perch' 'Perch'\n",
      " 'Roach' 'Bream' 'Smelt' 'Bream' 'Bream' 'Bream' 'Bream' 'Perch' 'Perch'\n",
      " 'Perch' 'Smelt' 'Smelt' 'Pike' 'Perch' 'Roach' 'Pike' 'Bream' 'Perch'\n",
      " 'Roach' 'Perch' 'Parkki' 'Perch']\n"
     ]
    }
   ],
   "source": [
    "print(kn.predict(test_input_scaled))"
   ]
  },
  {
   "cell_type": "markdown",
   "id": "811a77d6",
   "metadata": {},
   "source": [
    "각 샘플이 어떤 확률을 통해 최종적으로 판단되었는지, 즉 확률값을 보려면 `predict_proba()` 메서드를 통해 확인할 수 있다."
   ]
  },
  {
   "cell_type": "code",
   "execution_count": 23,
   "id": "07778bb9",
   "metadata": {},
   "outputs": [
    {
     "name": "stdout",
     "output_type": "stream",
     "text": [
      "[[0.    0.    1.    0.    0.    0.    0.   ]\n",
      " [0.    0.    0.    0.    0.    1.    0.   ]\n",
      " [0.    0.    0.    1.    0.    0.    0.   ]\n",
      " [0.    0.    0.667 0.    0.333 0.    0.   ]\n",
      " [0.    0.    0.667 0.    0.333 0.    0.   ]\n",
      " [1.    0.    0.    0.    0.    0.    0.   ]\n",
      " [0.    0.    0.    0.    0.    1.    0.   ]\n",
      " [0.    0.    0.333 0.    0.667 0.    0.   ]\n",
      " [0.    0.    0.667 0.    0.333 0.    0.   ]\n",
      " [0.    0.    0.    1.    0.    0.    0.   ]\n",
      " [1.    0.    0.    0.    0.    0.    0.   ]\n",
      " [0.    0.    1.    0.    0.    0.    0.   ]\n",
      " [1.    0.    0.    0.    0.    0.    0.   ]\n",
      " [0.    1.    0.    0.    0.    0.    0.   ]\n",
      " [1.    0.    0.    0.    0.    0.    0.   ]\n",
      " [1.    0.    0.    0.    0.    0.    0.   ]\n",
      " [0.    0.    1.    0.    0.    0.    0.   ]\n",
      " [0.    0.    1.    0.    0.    0.    0.   ]\n",
      " [0.    0.    0.333 0.    0.667 0.    0.   ]\n",
      " [1.    0.    0.    0.    0.    0.    0.   ]\n",
      " [0.    0.    0.    0.    0.    1.    0.   ]\n",
      " [1.    0.    0.    0.    0.    0.    0.   ]\n",
      " [1.    0.    0.    0.    0.    0.    0.   ]\n",
      " [1.    0.    0.    0.    0.    0.    0.   ]\n",
      " [1.    0.    0.    0.    0.    0.    0.   ]\n",
      " [0.    0.    1.    0.    0.    0.    0.   ]\n",
      " [0.    0.    0.667 0.    0.333 0.    0.   ]\n",
      " [0.    0.    0.667 0.    0.333 0.    0.   ]\n",
      " [0.    0.    0.    0.    0.    1.    0.   ]\n",
      " [0.    0.    0.    0.    0.    1.    0.   ]\n",
      " [0.    0.    0.    1.    0.    0.    0.   ]\n",
      " [0.    0.    0.667 0.    0.333 0.    0.   ]\n",
      " [0.    0.    0.333 0.    0.667 0.    0.   ]\n",
      " [0.    0.    0.    1.    0.    0.    0.   ]\n",
      " [0.667 0.333 0.    0.    0.    0.    0.   ]\n",
      " [0.    0.    0.667 0.    0.333 0.    0.   ]\n",
      " [0.    0.    0.333 0.    0.667 0.    0.   ]\n",
      " [0.    0.    0.667 0.    0.333 0.    0.   ]\n",
      " [0.    1.    0.    0.    0.    0.    0.   ]\n",
      " [0.    0.    1.    0.    0.    0.    0.   ]]\n"
     ]
    }
   ],
   "source": [
    "import numpy as np\n",
    "\n",
    "prob = kn.predict_proba(test_input_scaled)\n",
    "print(np.round(prob, decimals=3)) # 소숫점 세 번째 자리까지 표현(네 번째 자리에서 반올림)"
   ]
  },
  {
   "cell_type": "markdown",
   "id": "43a979ba",
   "metadata": {},
   "source": [
    "---\n",
    "# 직접 확인해보기\n",
    "- 모델이 예측한 각 클래스별 확률값이 진짜인지 확인해보자.\n",
    "    - 테스트셋 중 네 번쨰 샘플만 뽑아서 대표로 확인해보자."
   ]
  },
  {
   "cell_type": "code",
   "execution_count": 31,
   "id": "ac7cf5bd",
   "metadata": {},
   "outputs": [
    {
     "name": "stdout",
     "output_type": "stream",
     "text": [
      "52     Roach\n",
      "106    Perch\n",
      "103    Perch\n",
      "Name: Species, dtype: object\n"
     ]
    }
   ],
   "source": [
    "distance, indexes = kn.kneighbors(test_input_scaled[3:4]) # 굳이 슬라이싱을 하는 이유는, kneighbor의 입력은 2차원 배열이어야 하기 떄문\n",
    "print(train_target.iloc[indexes[0]])"
   ]
  },
  {
   "cell_type": "markdown",
   "id": "4768c699",
   "metadata": {},
   "source": [
    "### 결론\n",
    "- 3개중 1개는 Roach(5번째 클래스), 2개는 Perch(3번째 클래스)이고, 3번째 클래스로 예측했으며, 3개중 2개를 따랐으므로 확률값은 0.6667이 된다. \n",
    "- 문제는 확률값이 뭔가 엉성하다는 것(0, 0.3334.. , 0.6667, 1 이렇게 네 개의 확률밖에 없으므로).\n",
    "- 확률값을 있어보이게 만들어보자!"
   ]
  },
  {
   "cell_type": "markdown",
   "id": "a5d32a88",
   "metadata": {},
   "source": [
    "---\n",
    "# 로지스틱 회귀\n",
    "- 로지스틱 회귀는 이름만 회귀지, 분류 모델이다(선형 방정식을 얻어내고, 이 방정식의 값을 기반으로 확률값을 얻게되면 자연스럽게 결국 분류 작업을 수행하기 떄문).\n",
    "    - 로지스틱 회귀 모델은 선형 회귀처럼 선형 방정식($y = a_0+a_1x_1 + a_2x_2 + ... a_nx_n$)을 학습한다.\n",
    "- 원래라면 $y$는 어떠한 값도 될 수 있지만, 구하고자 하는것은 확률이므로 0~1사이의 값이 되어야한다. → Sigmoid 함수(=Logistic 함수)\n",
    "- $\\sigma(x) = \\frac{1}{1 + e^{-x}}$"
   ]
  },
  {
   "cell_type": "code",
   "execution_count": 32,
   "id": "6fdcac89",
   "metadata": {},
   "outputs": [
    {
     "data": {
      "image/png": "[encoded data removed]",
      "text/plain": [
       "<Figure size 640x480 with 1 Axes>"
      ]
     },
     "metadata": {},
     "output_type": "display_data"
    }
   ],
   "source": [
    "import numpy as np\n",
    "import matplotlib.pyplot as plt\n",
    "\n",
    "z = np.arange(-5, 5, 0.1)\n",
    "phi = 1 / (1+np.exp(-z))\n",
    "\n",
    "plt.plot(z, phi)\n",
    "plt.xlabel('z')\n",
    "plt.ylabel('phi')\n",
    "plt.show()"
   ]
  },
  {
   "cell_type": "markdown",
   "id": "49f3e2cc",
   "metadata": {},
   "source": [
    "---\n",
    "# 예측값을 그럴싸한 확률값으로 만들어보기\n",
    "- 두 가지를 하면 되는데\n",
    "    - 1. 회귀 모델로 실수값을 예측하도록 한다.\n",
    "    - 2. 실수값을 sigmoid에 통과시켜서 확률값으로 만든다."
   ]
  },
  {
   "cell_type": "markdown",
   "id": "42b40dfb",
   "metadata": {},
   "source": [
    "---\n",
    "# 이진 분류부터 해보기\n",
    "- 본 실습을 들어가기 전에, 간단한 이진 분류부터 연습해보며 감을 잡자."
   ]
  },
  {
   "cell_type": "code",
   "execution_count": null,
   "id": "85c56bdd",
   "metadata": {},
   "outputs": [
    {
     "data": {
      "text/plain": [
       "33"
      ]
     },
     "execution_count": 39,
     "metadata": {},
     "output_type": "execute_result"
    }
   ],
   "source": [
    "bream_smelt_indexes = (train_target == 'Bream') | (train_target == 'Smelt') # 비트OR연산자 (or는 안됨. 이유는 모름)\n",
    "train_bream_smelt = train_input_scaled[bream_smelt_indexes]\n",
    "target_bream_smelt = train_target[bream_smelt_indexes]\n",
    "\n",
    "len(train_bream_smelt) # bream, smelt만 걸러내면 33개의 샘플이 나옴"
   ]
  },
  {
   "cell_type": "code",
   "execution_count": 40,
   "id": "97f11457",
   "metadata": {},
   "outputs": [
    {
     "name": "stdout",
     "output_type": "stream",
     "text": [
      "['Bream' 'Smelt' 'Bream' 'Bream' 'Bream' 'Smelt' 'Bream' 'Bream' 'Bream'\n",
      " 'Bream' 'Bream' 'Bream' 'Bream' 'Smelt' 'Bream' 'Smelt' 'Smelt' 'Bream'\n",
      " 'Bream' 'Bream' 'Bream' 'Bream' 'Bream' 'Bream' 'Bream' 'Smelt' 'Bream'\n",
      " 'Smelt' 'Smelt' 'Bream' 'Smelt' 'Bream' 'Bream']\n",
      "[[9.97600072e-01 2.39992835e-03]\n",
      " [2.73732464e-02 9.72626754e-01]\n",
      " [9.94863864e-01 5.13613552e-03]\n",
      " [9.85850468e-01 1.41495320e-02]\n",
      " [9.97674186e-01 2.32581351e-03]\n",
      " [3.19535028e-02 9.68046497e-01]\n",
      " [9.73134460e-01 2.68655405e-02]\n",
      " [9.99533281e-01 4.66718913e-04]\n",
      " [9.86839274e-01 1.31607262e-02]\n",
      " [9.02332611e-01 9.76673891e-02]\n",
      " [9.98452905e-01 1.54709455e-03]\n",
      " [9.97614636e-01 2.38536358e-03]\n",
      " [9.96917597e-01 3.08240349e-03]\n",
      " [3.78325110e-02 9.62167489e-01]\n",
      " [9.99594878e-01 4.05122141e-04]\n",
      " [3.34456405e-02 9.66554359e-01]\n",
      " [7.48443959e-02 9.25155604e-01]\n",
      " [9.79930510e-01 2.00694898e-02]\n",
      " [9.99386557e-01 6.13442824e-04]\n",
      " [9.71091313e-01 2.89086870e-02]\n",
      " [9.81853073e-01 1.81469269e-02]\n",
      " [9.84921047e-01 1.50789532e-02]\n",
      " [9.62807570e-01 3.71924297e-02]\n",
      " [9.93466598e-01 6.53340168e-03]\n",
      " [9.85721421e-01 1.42785787e-02]\n",
      " [3.97507469e-02 9.60249253e-01]\n",
      " [9.95690646e-01 4.30935384e-03]\n",
      " [3.41639510e-02 9.65836049e-01]\n",
      " [3.21724971e-02 9.67827503e-01]\n",
      " [9.40655215e-01 5.93447853e-02]\n",
      " [7.67076666e-02 9.23292333e-01]\n",
      " [9.94551411e-01 5.44858922e-03]\n",
      " [9.91622955e-01 8.37704538e-03]]\n"
     ]
    }
   ],
   "source": [
    "from sklearn.linear_model import LogisticRegression\n",
    "\n",
    "lr = LogisticRegression()\n",
    "lr.fit(train_bream_smelt, target_bream_smelt)\n",
    "\n",
    "print(lr.predict(train_bream_smelt))\n",
    "print(lr.predict_proba(train_bream_smelt))"
   ]
  },
  {
   "cell_type": "markdown",
   "id": "cdf99139",
   "metadata": {},
   "source": [
    "학습한 계수값 확인해보기"
   ]
  },
  {
   "cell_type": "code",
   "execution_count": 41,
   "id": "1cd827cd",
   "metadata": {},
   "outputs": [
    {
     "name": "stdout",
     "output_type": "stream",
     "text": [
      "[[-0.40451732 -0.57582787 -0.66248158 -1.01329614 -0.73123131]] [-2.16172774]\n"
     ]
    }
   ],
   "source": [
    "print(lr.coef_, lr.intercept_)"
   ]
  },
  {
   "cell_type": "markdown",
   "id": "4161b1c1",
   "metadata": {},
   "source": [
    "- 로지스틱 회귀 모델이 학습한 방정식은, 다음과 같다.\n",
    "    - $z = -0.404\\text{weight} - 0.576\\text{length} - 0.662\\text{diagonal} - 1.013\\text{height} - 0.731\\text{width} - 2.162$\n",
    "- $z$값을 구하려면, 아래와 같이 `.decision_function()`메서드를 활용한다."
   ]
  },
  {
   "cell_type": "code",
   "execution_count": 43,
   "id": "48a53bc6",
   "metadata": {},
   "outputs": [
    {
     "name": "stdout",
     "output_type": "stream",
     "text": [
      "[-6.02991358  3.57043428 -5.26630496 -4.24382314 -6.06135688  3.41099831\n",
      " -3.58967782 -7.66931655 -4.31727007 -2.22341548 -6.4698283  -6.03601551\n",
      " -5.77895847  3.23601973 -7.81091675  3.36381609  2.51455071 -3.88828092\n",
      " -7.39580986 -3.51427836 -3.99094045 -4.17926154 -3.25374833 -5.0242727\n",
      " -4.23461336  3.18456426 -5.44264864  3.34182307  3.40394191 -2.76321242\n",
      "  2.48794425 -5.20693508 -4.77384768]\n"
     ]
    }
   ],
   "source": [
    "decisions = lr.decision_function(train_bream_smelt)\n",
    "print(decisions)"
   ]
  },
  {
   "cell_type": "markdown",
   "id": "65962759",
   "metadata": {},
   "source": [
    "$z$값을 구한 뒤 sigmoid에 넣어주면, 최종적으로 확률값으로 변환시킬 수 있다."
   ]
  },
  {
   "cell_type": "code",
   "execution_count": null,
   "id": "847eb37a",
   "metadata": {},
   "outputs": [
    {
     "name": "stdout",
     "output_type": "stream",
     "text": [
      "[2.39992835e-03 9.72626754e-01 5.13613552e-03 1.41495320e-02\n",
      " 2.32581351e-03 9.68046497e-01 2.68655405e-02 4.66718913e-04\n",
      " 1.31607262e-02 9.76673891e-02 1.54709455e-03 2.38536358e-03\n",
      " 3.08240349e-03 9.62167489e-01 4.05122141e-04 9.66554359e-01\n",
      " 9.25155604e-01 2.00694898e-02 6.13442824e-04 2.89086870e-02\n",
      " 1.81469269e-02 1.50789532e-02 3.71924297e-02 6.53340168e-03\n",
      " 1.42785787e-02 9.60249253e-01 4.30935384e-03 9.65836049e-01\n",
      " 9.67827503e-01 5.93447853e-02 9.23292333e-01 5.44858922e-03\n",
      " 8.37704538e-03]\n"
     ]
    }
   ],
   "source": [
    "from scipy.special import expit # sigmoid함수\n",
    "\n",
    "print(expit(decisions)) # 양성 클래스(1)일 확률"
   ]
  },
  {
   "cell_type": "markdown",
   "id": "0f8421ad",
   "metadata": {},
   "source": [
    "👉 출력 결과: `.predict_proba()`메서드의 두 번째 컬럼 값과 동일. 즉 `.decision_function()`메서드는 양성 클래스에 대한 z값을 반환한다는 것을 알 수 있음"
   ]
  },
  {
   "cell_type": "markdown",
   "id": "ddb6fa21",
   "metadata": {},
   "source": [
    "---\n",
    "# 다중 분류 문제 진짜 풀어보기\n",
    "- 이제 진짜로 다중 분류 문제를 풀고, 확률값까지 얻어내보자.\n",
    "- 로지스틱 회귀는 릿지 회귀처럼 계수의 제곱을 규제함. 다만 `alpha`처럼 값이 클수록 규제 정도가 커지는게 아니라 `C`값은 값이 작을수록 규제 정도가 커짐\n",
    "- `LogisticReression`클래스의 `multi_class=auto`값으로 이진 분류인지, 다중 분류인지를 명시할 수 있다.\n",
    "    - 굳이 명시할필요는 없다. 클래스 개수가 두 개라면 이진 분류 문제로 간주하여 알아서 시그모이드를 사용하고, 세 개 이상이라면 다중 분류 문제로 간주하여 알아서 소프트맥스를 사용한다.\n",
    "- `max_iter`값은 선형 방정식의 계수(모델의 매개변수)를 최적화하기 위해 학습의 양을 지정하는 값이다."
   ]
  },
  {
   "cell_type": "code",
   "execution_count": 45,
   "id": "f3674fb0",
   "metadata": {},
   "outputs": [
    {
     "name": "stdout",
     "output_type": "stream",
     "text": [
      "0.9327731092436975\n",
      "0.925\n"
     ]
    }
   ],
   "source": [
    "lr = LogisticRegression(C=20, max_iter=1000)\n",
    "lr.fit(train_input_scaled, train_target)\n",
    "\n",
    "print(lr.score(train_input_scaled, train_target))\n",
    "print(lr.score(test_input_scaled, test_target))"
   ]
  },
  {
   "cell_type": "code",
   "execution_count": 46,
   "id": "02b4722f",
   "metadata": {},
   "outputs": [
    {
     "name": "stdout",
     "output_type": "stream",
     "text": [
      "['Perch' 'Smelt' 'Pike' 'Roach' 'Perch' 'Bream' 'Smelt' 'Roach' 'Perch'\n",
      " 'Pike' 'Bream' 'Perch' 'Bream' 'Parkki' 'Bream' 'Bream' 'Perch' 'Perch'\n",
      " 'Perch' 'Bream' 'Smelt' 'Bream' 'Bream' 'Bream' 'Bream' 'Perch' 'Perch'\n",
      " 'Roach' 'Smelt' 'Smelt' 'Pike' 'Perch' 'Perch' 'Pike' 'Bream' 'Perch'\n",
      " 'Roach' 'Roach' 'Parkki' 'Perch']\n"
     ]
    }
   ],
   "source": [
    "print(lr.predict(test_input_scaled))"
   ]
  },
  {
   "cell_type": "code",
   "execution_count": 47,
   "id": "4299bab3",
   "metadata": {},
   "outputs": [
    {
     "name": "stdout",
     "output_type": "stream",
     "text": [
      "[[0.    0.014 0.842 0.    0.135 0.007 0.003]\n",
      " [0.    0.003 0.044 0.    0.007 0.946 0.   ]\n",
      " [0.    0.    0.034 0.934 0.015 0.016 0.   ]\n",
      " [0.011 0.034 0.305 0.006 0.567 0.    0.076]\n",
      " [0.    0.    0.904 0.002 0.089 0.002 0.001]\n",
      " [0.999 0.    0.    0.    0.    0.    0.   ]\n",
      " [0.    0.001 0.05  0.    0.004 0.945 0.   ]\n",
      " [0.001 0.007 0.319 0.014 0.639 0.001 0.018]\n",
      " [0.    0.002 0.803 0.002 0.181 0.    0.011]\n",
      " [0.    0.    0.022 0.978 0.    0.    0.   ]\n",
      " [0.984 0.003 0.    0.    0.001 0.    0.013]\n",
      " [0.047 0.    0.817 0.008 0.002 0.    0.126]\n",
      " [0.992 0.005 0.    0.    0.    0.    0.003]\n",
      " [0.007 0.907 0.002 0.    0.076 0.    0.009]\n",
      " [0.999 0.001 0.    0.    0.    0.    0.   ]\n",
      " [1.    0.    0.    0.    0.    0.    0.   ]\n",
      " [0.001 0.    0.936 0.    0.    0.    0.063]\n",
      " [0.001 0.003 0.784 0.009 0.19  0.    0.014]\n",
      " [0.001 0.035 0.675 0.004 0.263 0.001 0.021]\n",
      " [0.991 0.005 0.    0.    0.    0.    0.003]\n",
      " [0.    0.002 0.049 0.    0.008 0.941 0.   ]\n",
      " [0.997 0.002 0.    0.    0.    0.    0.   ]\n",
      " [0.984 0.015 0.    0.    0.    0.    0.001]\n",
      " [0.985 0.012 0.    0.    0.001 0.    0.002]\n",
      " [1.    0.    0.    0.    0.    0.    0.   ]\n",
      " [0.001 0.    0.971 0.001 0.    0.    0.027]\n",
      " [0.    0.004 0.794 0.003 0.191 0.001 0.006]\n",
      " [0.007 0.016 0.35  0.011 0.559 0.    0.056]\n",
      " [0.    0.002 0.042 0.    0.004 0.952 0.   ]\n",
      " [0.    0.002 0.028 0.    0.005 0.965 0.   ]\n",
      " [0.    0.    0.002 0.998 0.    0.    0.   ]\n",
      " [0.    0.008 0.837 0.    0.138 0.015 0.001]\n",
      " [0.    0.039 0.722 0.    0.191 0.046 0.002]\n",
      " [0.    0.    0.001 0.999 0.    0.    0.   ]\n",
      " [0.737 0.2   0.    0.    0.026 0.    0.037]\n",
      " [0.    0.016 0.624 0.003 0.345 0.005 0.007]\n",
      " [0.001 0.023 0.247 0.002 0.703 0.001 0.024]\n",
      " [0.    0.024 0.266 0.003 0.691 0.007 0.008]\n",
      " [0.025 0.945 0.    0.    0.027 0.    0.003]\n",
      " [0.013 0.    0.704 0.    0.002 0.    0.281]]\n"
     ]
    }
   ],
   "source": [
    "prob = lr.predict_proba(test_input_scaled)\n",
    "print(np.round(prob, decimals=3))"
   ]
  },
  {
   "cell_type": "markdown",
   "id": "2b9ff18d",
   "metadata": {},
   "source": [
    "레이블과 계수 정보 확인해보기"
   ]
  },
  {
   "cell_type": "code",
   "execution_count": 48,
   "id": "c56c7531",
   "metadata": {},
   "outputs": [
    {
     "name": "stdout",
     "output_type": "stream",
     "text": [
      "['Bream' 'Parkki' 'Perch' 'Pike' 'Roach' 'Smelt' 'Whitefish']\n",
      "(7, 5) (7,)\n"
     ]
    }
   ],
   "source": [
    "print(lr.classes_)\n",
    "print(lr.coef_.shape, lr.intercept_.shape)"
   ]
  },
  {
   "cell_type": "markdown",
   "id": "1453a4e7",
   "metadata": {},
   "source": [
    "👉 행의 크기가 7인 이유는, 예측해야하는 클래스가 7개이기 때문이다.\n",
    "\n",
    "- 즉 선형 방정식에서, 서로 다른 $z$를 7개 계산하는 것\n",
    "    \n",
    "    - $z_{\\text{Bream}} = a_0 + a_{1,\\text{Bream}} \\cdot \\text{Weight} + a_{2,\\text{Bream}} \\cdot \\text{Length} + a_{3,\\text{Bream}} \\cdot \\text{Diagonal} + a_{4,\\text{Bream}} \\cdot \\text{Height} + a_{5,\\text{Bream}} \\cdot \\text{Width}$\n",
    "    - $z_{\\text{Parkki}} = a_0 + a_{1,\\text{Parkki}} \\cdot \\text{Weight} + a_{2,\\text{Parkki}} \\cdot \\text{Length} + a_{3,\\text{Parkki}} \\cdot \\text{Diagonal} + a_{4,\\text{Parkki}} \\cdot \\text{Height} + a_{5,\\text{Parkki}} \\cdot \\text{Width}$\n",
    "    - ... (총 7개)\n",
    "- 이진 분류에서는 sigmoid를 통해 $z$값을 확률값으로 변환했지만, 다중 분류에서는 softmax를 통해 각 레이블의 확률값으로 변환한다.\n",
    "    - 보통 여러 클래스 중 어떤 입력이 특정 클래스일 확률을 구하는 경우, 즉 $z=[z_1,\\dots,z_K]$가 나왔을 때 각 클래스의 확률은 다음과 같이 정의됨 → $P(y=i\\mid x)=\\frac{e^{z_i}}{\\sum_{j=1}^K e^{z_j}}\\,$\n",
    "    - 반면 이진 분류나, 각 항목이 독립적으로 참일 확률을 구할 경우에는, 각 로짓에 대해 sigmoid($\\sigma(z)=\\frac1{1+e^{-z}}$)를 활용"
   ]
  },
  {
   "cell_type": "code",
   "execution_count": 49,
   "id": "5ae38e57",
   "metadata": {},
   "outputs": [
    {
     "name": "stdout",
     "output_type": "stream",
     "text": [
      "[[-6.510e+00  1.040e+00  5.170e+00 -2.760e+00  3.340e+00  3.500e-01\n",
      "  -6.300e-01]\n",
      " [-1.088e+01  1.940e+00  4.780e+00 -2.420e+00  2.990e+00  7.840e+00\n",
      "  -4.250e+00]\n",
      " [-4.340e+00 -6.240e+00  3.170e+00  6.480e+00  2.360e+00  2.430e+00\n",
      "  -3.870e+00]\n",
      " [-6.900e-01  4.500e-01  2.640e+00 -1.210e+00  3.260e+00 -5.700e+00\n",
      "   1.260e+00]\n",
      " [-6.400e+00 -1.990e+00  5.820e+00 -1.300e-01  3.500e+00 -9.000e-02\n",
      "  -7.000e-01]\n",
      " [ 1.669e+01  8.310e+00 -3.350e+00 -4.950e+00  8.500e-01 -2.634e+01\n",
      "   8.790e+00]\n",
      " [-1.235e+01  1.920e+00  5.760e+00 -2.920e+00  3.180e+00  8.690e+00\n",
      "  -4.280e+00]\n",
      " [-2.620e+00 -8.500e-01  2.900e+00 -2.100e-01  3.600e+00 -2.850e+00\n",
      "   2.000e-02]\n",
      " [-3.840e+00 -1.060e+00  4.990e+00 -9.600e-01  3.500e+00 -3.370e+00\n",
      "   7.400e-01]\n",
      " [ 1.670e+00 -1.450e+01  1.047e+01  1.424e+01 -9.300e-01 -1.205e+01\n",
      "   1.110e+00]\n",
      " [ 9.740e+00  3.930e+00 -1.710e+00 -2.410e+00  2.420e+00 -1.737e+01\n",
      "   5.400e+00]\n",
      " [ 4.110e+00 -3.060e+00  6.970e+00  2.360e+00  8.800e-01 -1.637e+01\n",
      "   5.110e+00]\n",
      " [ 1.170e+01  6.410e+00 -3.710e+00 -4.120e+00  2.420e+00 -1.852e+01\n",
      "   5.830e+00]\n",
      " [ 6.400e-01  5.570e+00 -4.100e-01 -4.800e+00  3.090e+00 -5.000e+00\n",
      "   9.200e-01]\n",
      " [ 1.325e+01  6.090e+00 -4.480e+00 -2.740e+00  1.660e+00 -1.923e+01\n",
      "   5.440e+00]\n",
      " [ 1.569e+01  6.370e+00 -3.750e+00 -2.770e+00  8.700e-01 -2.357e+01\n",
      "   7.150e+00]\n",
      " [ 3.640e+00 -6.110e+00  1.060e+01  2.440e+00  1.800e+00 -2.027e+01\n",
      "   7.900e+00]\n",
      " [-2.910e+00 -1.270e+00  4.420e+00 -7.000e-02  3.000e+00 -3.550e+00\n",
      "   3.700e-01]\n",
      " [-2.720e+00  7.500e-01  3.700e+00 -1.440e+00  2.750e+00 -3.270e+00\n",
      "   2.300e-01]\n",
      " [ 1.054e+01  5.340e+00 -2.790e+00 -2.610e+00  1.750e+00 -1.703e+01\n",
      "   4.790e+00]\n",
      " [-1.132e+01  1.820e+00  5.020e+00 -2.580e+00  3.220e+00  7.990e+00\n",
      "  -4.150e+00]\n",
      " [ 1.252e+01  6.530e+00 -5.060e+00 -2.830e+00  1.620e+00 -1.726e+01\n",
      "   4.480e+00]\n",
      " [ 9.680e+00  5.490e+00 -4.840e+00 -1.730e+00  1.730e+00 -1.272e+01\n",
      "   2.390e+00]\n",
      " [ 1.017e+01  5.740e+00 -4.460e+00 -3.120e+00  2.660e+00 -1.509e+01\n",
      "   4.110e+00]\n",
      " [ 1.562e+01  6.520e+00 -3.420e+00 -2.840e+00  6.600e-01 -2.374e+01\n",
      "   7.210e+00]\n",
      " [ 3.500e+00 -5.060e+00  1.012e+01  2.930e+00  6.600e-01 -1.870e+01\n",
      "   6.550e+00]\n",
      " [-4.490e+00 -6.600e-01  4.670e+00 -8.500e-01  3.250e+00 -1.780e+00\n",
      "  -1.400e-01]\n",
      " [-1.050e+00 -2.200e-01  2.830e+00 -6.300e-01  3.300e+00 -5.230e+00\n",
      "   1.000e+00]\n",
      " [-1.236e+01  2.480e+00  5.630e+00 -3.370e+00  3.160e+00  8.740e+00\n",
      "  -4.270e+00]\n",
      " [-1.123e+01  1.970e+00  4.750e+00 -2.460e+00  3.090e+00  8.300e+00\n",
      "  -4.410e+00]\n",
      " [-2.610e+00 -1.081e+01  5.160e+00  1.121e+01  1.170e+00 -6.900e-01\n",
      "  -3.430e+00]\n",
      " [-7.580e+00  8.200e-01  5.430e+00 -2.760e+00  3.620e+00  1.430e+00\n",
      "  -9.500e-01]\n",
      " [-7.450e+00  1.840e+00  4.760e+00 -3.280e+00  3.440e+00  2.000e+00\n",
      "  -1.320e+00]\n",
      " [-9.300e-01 -1.144e+01  5.030e+00  1.217e+01  6.700e-01 -2.480e+00\n",
      "  -3.020e+00]\n",
      " [ 6.780e+00  5.470e+00 -2.780e+00 -4.300e+00  3.450e+00 -1.240e+01\n",
      "   3.780e+00]\n",
      " [-4.550e+00  2.100e-01  3.890e+00 -1.370e+00  3.290e+00 -8.900e-01\n",
      "  -5.700e-01]\n",
      " [-2.910e+00  5.200e-01  2.900e+00 -1.860e+00  3.940e+00 -3.160e+00\n",
      "   5.700e-01]\n",
      " [-4.320e+00  4.700e-01  2.870e+00 -1.520e+00  3.830e+00 -7.100e-01\n",
      "  -6.200e-01]\n",
      " [ 2.600e+00  6.250e+00 -2.340e+00 -4.320e+00  2.700e+00 -5.380e+00\n",
      "   5.000e-01]\n",
      " [ 4.020e+00 -3.130e+00  8.000e+00  3.700e-01  2.070e+00 -1.842e+01\n",
      "   7.090e+00]]\n"
     ]
    }
   ],
   "source": [
    "decisions = lr.decision_function(test_input_scaled)\n",
    "print(np.round(decisions, decimals=2))"
   ]
  },
  {
   "cell_type": "markdown",
   "id": "104ea710",
   "metadata": {},
   "source": [
    "softmax() 적용"
   ]
  },
  {
   "cell_type": "code",
   "execution_count": 50,
   "id": "bb049747",
   "metadata": {},
   "outputs": [
    {
     "name": "stdout",
     "output_type": "stream",
     "text": [
      "[[0.    0.014 0.842 0.    0.135 0.007 0.003]\n",
      " [0.    0.003 0.044 0.    0.007 0.946 0.   ]\n",
      " [0.    0.    0.034 0.934 0.015 0.016 0.   ]\n",
      " [0.011 0.034 0.305 0.006 0.567 0.    0.076]\n",
      " [0.    0.    0.904 0.002 0.089 0.002 0.001]\n",
      " [0.999 0.    0.    0.    0.    0.    0.   ]\n",
      " [0.    0.001 0.05  0.    0.004 0.945 0.   ]\n",
      " [0.001 0.007 0.319 0.014 0.639 0.001 0.018]\n",
      " [0.    0.002 0.803 0.002 0.181 0.    0.011]\n",
      " [0.    0.    0.022 0.978 0.    0.    0.   ]\n",
      " [0.984 0.003 0.    0.    0.001 0.    0.013]\n",
      " [0.047 0.    0.817 0.008 0.002 0.    0.126]\n",
      " [0.992 0.005 0.    0.    0.    0.    0.003]\n",
      " [0.007 0.907 0.002 0.    0.076 0.    0.009]\n",
      " [0.999 0.001 0.    0.    0.    0.    0.   ]\n",
      " [1.    0.    0.    0.    0.    0.    0.   ]\n",
      " [0.001 0.    0.936 0.    0.    0.    0.063]\n",
      " [0.001 0.003 0.784 0.009 0.19  0.    0.014]\n",
      " [0.001 0.035 0.675 0.004 0.263 0.001 0.021]\n",
      " [0.991 0.005 0.    0.    0.    0.    0.003]\n",
      " [0.    0.002 0.049 0.    0.008 0.941 0.   ]\n",
      " [0.997 0.002 0.    0.    0.    0.    0.   ]\n",
      " [0.984 0.015 0.    0.    0.    0.    0.001]\n",
      " [0.985 0.012 0.    0.    0.001 0.    0.002]\n",
      " [1.    0.    0.    0.    0.    0.    0.   ]\n",
      " [0.001 0.    0.971 0.001 0.    0.    0.027]\n",
      " [0.    0.004 0.794 0.003 0.191 0.001 0.006]\n",
      " [0.007 0.016 0.35  0.011 0.559 0.    0.056]\n",
      " [0.    0.002 0.042 0.    0.004 0.952 0.   ]\n",
      " [0.    0.002 0.028 0.    0.005 0.965 0.   ]\n",
      " [0.    0.    0.002 0.998 0.    0.    0.   ]\n",
      " [0.    0.008 0.837 0.    0.138 0.015 0.001]\n",
      " [0.    0.039 0.722 0.    0.191 0.046 0.002]\n",
      " [0.    0.    0.001 0.999 0.    0.    0.   ]\n",
      " [0.737 0.2   0.    0.    0.026 0.    0.037]\n",
      " [0.    0.016 0.624 0.003 0.345 0.005 0.007]\n",
      " [0.001 0.023 0.247 0.002 0.703 0.001 0.024]\n",
      " [0.    0.024 0.266 0.003 0.691 0.007 0.008]\n",
      " [0.025 0.945 0.    0.    0.027 0.    0.003]\n",
      " [0.013 0.    0.704 0.    0.002 0.    0.281]]\n"
     ]
    }
   ],
   "source": [
    "from scipy.special import softmax\n",
    "\n",
    "prob = softmax(decisions, axis=1)\n",
    "print(np.round(prob, decimals=3))"
   ]
  },
  {
   "cell_type": "markdown",
   "id": "e949a036",
   "metadata": {},
   "source": [
    "---\n",
    "# QA\n",
    "\n",
    "👉 로지스틱 회귀는 계수값을 어떻게 정하는건가요? 단순히 모델에 데이터의 값을 넣어주면 알아서 적절한 선형 방정식의 계수값을 뿅 뱉어주니까 그 중간과정을 잘 모르겠어요.       \n",
    "\n",
    "- 사실 로지스틱 회귀뿐만 아니라, 3장에서의 선형 회귀 모델 또한 마찬가지로 선형 방정식의 계수값을 최적화하는식으로 학습이 이루어졌습니다. 즉 이미 한번 나왔던 셈입니다.\n",
    "- 다만 선형 회귀 모델에서 계수값을 최적화하는 방식이 각각 다른데, LinearRegression클래스는 최소 제곱법, LogisticRegression클래스는 경사 하강법을 통해 계수를 최적화합니다.\n",
    "- 선형 회귀 모델에서 계수값을 최적화하는 방식은 이와 같이 크게 최소 제곱법과 경사 하강법 두 가지가 존재합니다.\n",
    "- 또한, 선형 회귀 모델의 성능 평가는 결정 계수, MSE, MAE, RMSE와 같은 방식을 통해 성능을 평가할 수 있습니다.\n",
    "\n",
    "<br/>\n",
    "<br/>\n",
    "\n",
    "👉 왜 학습의 양(`max_iter`)을 어느 정도 크게 해야 모델이 충분히 학습할 수 있는걸까요? 데이터를 한 번만 보고도 완벽하게 학습하도록 할 수는 없는건가요?       \n",
    "\n",
    "- `LogisticRegression`는 경사 하강법을 통해 선형 방정식의 계수값을 최적화하는데, 이 때 `max_iter`값은 경사 하강법을 몇 번 수행해서 최적화를 수행할것인지를 의미합니다.\n",
    "- "
   ]
  }
 ],
 "metadata": {
  "kernelspec": {
   "display_name": "AI_Tech_project1",
   "language": "python",
   "name": "python3"
  },
  "language_info": {
   "codemirror_mode": {
    "name": "ipython",
    "version": 3
   },
   "file_extension": ".py",
   "mimetype": "text/x-python",
   "name": "python",
   "nbconvert_exporter": "python",
   "pygments_lexer": "ipython3",
   "version": "3.12.0"
  }
 },
 "nbformat": 4,
 "nbformat_minor": 5
}
