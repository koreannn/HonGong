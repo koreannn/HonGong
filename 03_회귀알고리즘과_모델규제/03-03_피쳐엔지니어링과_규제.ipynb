{
 "cells": [
  {
   "cell_type": "markdown",
   "id": "8485ed06",
   "metadata": {},
   "source": []
  },
  {
   "cell_type": "markdown",
   "id": "73fbf814",
   "metadata": {},
   "source": [
    "# 다중 회귀\n",
    "요번에는 length 피쳐뿐만 아니라, length, height(높이), width(두께)까지 활용하는 모델을 만들어보자. 선형 회귀에서는 피쳐를 많이 활용할수록 모델의 성능은 좋아진다.\n",
    "\n",
    "- 1개의 피쳐를 기반으로 모델을 만들 경우, x축이 입력 피쳐, y축이 타겟인 평면을 학습함\n",
    "- 2개의 피쳐를 기반으로 모델을 만들 경우, 모델은 평면을 학습함. 이 때 방정식은 $a_1x_1+a_2x_2+c$\n",
    "- n개의 피쳐를 기반으로 만들 경우, 방정식은 $a_1x_1 + a_2x_2 + ... + a_nx_n + c$"
   ]
  },
  {
   "cell_type": "code",
   "execution_count": 2,
   "id": "0d4da2d9",
   "metadata": {},
   "outputs": [
    {
     "name": "stdout",
     "output_type": "stream",
     "text": [
      "56\n"
     ]
    },
    {
     "data": {
      "text/html": [
       "<div>\n",
       "<style scoped>\n",
       "    .dataframe tbody tr th:only-of-type {\n",
       "        vertical-align: middle;\n",
       "    }\n",
       "\n",
       "    .dataframe tbody tr th {\n",
       "        vertical-align: top;\n",
       "    }\n",
       "\n",
       "    .dataframe thead th {\n",
       "        text-align: right;\n",
       "    }\n",
       "</style>\n",
       "<table border=\"1\" class=\"dataframe\">\n",
       "  <thead>\n",
       "    <tr style=\"text-align: right;\">\n",
       "      <th></th>\n",
       "      <th>length</th>\n",
       "      <th>height</th>\n",
       "      <th>width</th>\n",
       "    </tr>\n",
       "  </thead>\n",
       "  <tbody>\n",
       "    <tr>\n",
       "      <th>0</th>\n",
       "      <td>8.4</td>\n",
       "      <td>2.11</td>\n",
       "      <td>1.41</td>\n",
       "    </tr>\n",
       "    <tr>\n",
       "      <th>1</th>\n",
       "      <td>13.7</td>\n",
       "      <td>3.53</td>\n",
       "      <td>2.00</td>\n",
       "    </tr>\n",
       "    <tr>\n",
       "      <th>2</th>\n",
       "      <td>15.0</td>\n",
       "      <td>3.82</td>\n",
       "      <td>2.43</td>\n",
       "    </tr>\n",
       "    <tr>\n",
       "      <th>3</th>\n",
       "      <td>16.2</td>\n",
       "      <td>4.59</td>\n",
       "      <td>2.63</td>\n",
       "    </tr>\n",
       "    <tr>\n",
       "      <th>4</th>\n",
       "      <td>17.4</td>\n",
       "      <td>4.59</td>\n",
       "      <td>2.94</td>\n",
       "    </tr>\n",
       "  </tbody>\n",
       "</table>\n",
       "</div>"
      ],
      "text/plain": [
       "   length   height   width\n",
       "0     8.4     2.11    1.41\n",
       "1    13.7     3.53    2.00\n",
       "2    15.0     3.82    2.43\n",
       "3    16.2     4.59    2.63\n",
       "4    17.4     4.59    2.94"
      ]
     },
     "execution_count": 2,
     "metadata": {},
     "output_type": "execute_result"
    }
   ],
   "source": [
    "import pandas as pd\n",
    "\n",
    "perch_full = pd.read_csv('https://bit.ly/perch_csv_data')\n",
    "print(len(perch_full))\n",
    "perch_full.head()"
   ]
  },
  {
   "cell_type": "code",
   "execution_count": 3,
   "id": "aa845304",
   "metadata": {},
   "outputs": [
    {
     "name": "stdout",
     "output_type": "stream",
     "text": [
      "56\n"
     ]
    }
   ],
   "source": [
    "import numpy as np\n",
    "\n",
    "perch_weight = np.array(\n",
    "    [5.9, 32.0, 40.0, 51.5, 70.0, 100.0, 78.0, 80.0, 85.0, 85.0,\n",
    "     110.0, 115.0, 125.0, 130.0, 120.0, 120.0, 130.0, 135.0, 110.0,\n",
    "     130.0, 150.0, 145.0, 150.0, 170.0, 225.0, 145.0, 188.0, 180.0,\n",
    "     197.0, 218.0, 300.0, 260.0, 265.0, 250.0, 250.0, 300.0, 320.0,\n",
    "     514.0, 556.0, 840.0, 685.0, 700.0, 700.0, 690.0, 900.0, 650.0,\n",
    "     820.0, 850.0, 900.0, 1015.0, 820.0, 1100.0, 1000.0, 1100.0,\n",
    "     1000.0, 1000.0]\n",
    "     )\n",
    "print(len(perch_weight))"
   ]
  },
  {
   "cell_type": "code",
   "execution_count": 4,
   "id": "99fc04d7",
   "metadata": {},
   "outputs": [],
   "source": [
    "from sklearn.model_selection import train_test_split\n",
    "\n",
    "train_input, test_input, train_target, test_target = train_test_split(perch_full, perch_weight, random_state=42)"
   ]
  },
  {
   "cell_type": "markdown",
   "id": "653b8f60",
   "metadata": {},
   "source": [
    "---\n",
    "# 사이킷런의 변환기(transformer)\n",
    "- 사이킷 런에서는 특성을 만들거나(Feature Engineering) 전처리하기 위한 다양한 클래스를 제공하는데, 이러한 클래스를 변환기(transformer)라고 함.\n",
    "    - 본 실습에서는 `PolynomialFeatures` 변환기를 사용\n",
    "    - 앞서 나온 LinearRegrssion과 같은 모델 클래스는 추정기(estimator)라고 함\n",
    "- `PolynomialFeatures`는 선형 모델로 데이터의 비선형 관계를 모델링하고싶을 때, 다항 특성을 추가해주어 모델의 표현력을 높이기 위해 사용함\n",
    "    - 각 피쳐값에 대한 다항식($x^2, x^3$ .. 등)과, 상호작용 항($x_ix_p$ .. 등)을 전처리해주는(만들어주는)클래스이다.\n",
    "    - 다항식의 차수는 클래스의 `degree`옵션으로 조절할 수 있다. 예를 들어 `degree=3`이라면 3차항까지 만들어준다."
   ]
  },
  {
   "cell_type": "code",
   "execution_count": 5,
   "id": "fcf1be14",
   "metadata": {},
   "outputs": [],
   "source": [
    "from sklearn.preprocessing import PolynomialFeatures"
   ]
  },
  {
   "cell_type": "code",
   "execution_count": 6,
   "id": "c01e9476",
   "metadata": {},
   "outputs": [
    {
     "name": "stdout",
     "output_type": "stream",
     "text": [
      "[[1. 2. 3. 4. 6. 9.]]\n"
     ]
    }
   ],
   "source": [
    "poly = PolynomialFeatures()\n",
    "poly.fit([[2,3]])\n",
    "print(poly.transform([[2,3]]))"
   ]
  },
  {
   "cell_type": "code",
   "execution_count": 7,
   "id": "eb3db4f8",
   "metadata": {},
   "outputs": [
    {
     "name": "stdout",
     "output_type": "stream",
     "text": [
      "(42, 9)\n"
     ]
    },
    {
     "data": {
      "text/plain": [
       "array([[  19.6   ,    5.14  ,    3.04  ,  384.16  ,  100.744 ,   59.584 ,\n",
       "          26.4196,   15.6256,    9.2416],\n",
       "       [  22.    ,    5.88  ,    3.52  ,  484.    ,  129.36  ,   77.44  ,\n",
       "          34.5744,   20.6976,   12.3904],\n",
       "       [  18.7   ,    5.2   ,    3.12  ,  349.69  ,   97.24  ,   58.344 ,\n",
       "          27.04  ,   16.224 ,    9.7344],\n",
       "       [  17.4   ,    4.59  ,    2.94  ,  302.76  ,   79.866 ,   51.156 ,\n",
       "          21.0681,   13.4946,    8.6436],\n",
       "       [  36.    ,   10.61  ,    6.74  , 1296.    ,  381.96  ,  242.64  ,\n",
       "         112.5721,   71.5114,   45.4276]])"
      ]
     },
     "execution_count": 7,
     "metadata": {},
     "output_type": "execute_result"
    }
   ],
   "source": [
    "poly = PolynomialFeatures(include_bias=False)\n",
    "\n",
    "poly.fit(train_input)\n",
    "train_poly = poly.transform(train_input)\n",
    "print(train_poly.shape)\n",
    "train_poly[:5]"
   ]
  },
  {
   "cell_type": "markdown",
   "id": "0f74b859",
   "metadata": {},
   "source": [
    "위 코드에서처럼, `include_bias`옵션을 False로 줄 경우, "
   ]
  },
  {
   "cell_type": "code",
   "execution_count": 8,
   "id": "f53ae3f6",
   "metadata": {},
   "outputs": [
    {
     "data": {
      "text/plain": [
       "array(['length', ' height', ' width', 'length^2', 'length  height',\n",
       "       'length  width', ' height^2', ' height  width', ' width^2'],\n",
       "      dtype=object)"
      ]
     },
     "execution_count": 8,
     "metadata": {},
     "output_type": "execute_result"
    }
   ],
   "source": [
    "poly.get_feature_names_out()"
   ]
  },
  {
   "cell_type": "markdown",
   "id": "6f1db2b8",
   "metadata": {},
   "source": [
    "- 결과를 보면 모델을 초기화한 후 `fit()` → `transform()`의 순서로 피쳐를 전처리함\n",
    "    - `fit()`은 새롭게 만들어낼 피쳐의 조합을 찾아내기 위한 API\n",
    "    - `transform()`은 만들어낸 피쳐의 조합을 기반으로 실제로 데이터를 변환하는 API"
   ]
  },
  {
   "cell_type": "code",
   "execution_count": 9,
   "id": "512ffdfe",
   "metadata": {},
   "outputs": [],
   "source": [
    "test_poly = poly.transform(test_input)"
   ]
  },
  {
   "cell_type": "markdown",
   "id": "3e6b4a1c",
   "metadata": {},
   "source": [
    "---\n",
    "# 다중 회귀 모델 훈련하기\n",
    "- 다시 강조하자면, 다중 회귀 모델의 학습은 선형 회귀 모델을 학습시키는 것과 동일하다. 즉 피쳐값들과 타겟값과의 관계가 여전히 선형적이라는 의미이다.\n",
    "    - 다만 피쳐를 여러 개 활용할 뿐이다. \n",
    "    - 단일 변수 선형 회귀: $y=w_0 + w_1x_1$\n",
    "    - 다중 변수 선형 회귀: $y=w_0 + w_1x_1 + ... + w_nx_n$\n",
    "- 선형적이지 않은 회귀(비선형 회귀)의 예시 (파라미터의 일차 결합이 아닌 경우)\n",
    "    - 다항 회귀: $y = w_0 + w_1 x + w_2 x^2 + \\cdots + w_n x^n$\n",
    "    - 로지스틱 회귀: $y = a \\,\\exp(b x)$\n",
    "    - 지수 회귀: $y = \\frac{1}{1 + \\exp(- (w_0 + w_1 x_1 + \\cdots + w_n x_n))}$"
   ]
  },
  {
   "cell_type": "code",
   "execution_count": 10,
   "id": "97985558",
   "metadata": {},
   "outputs": [
    {
     "name": "stdout",
     "output_type": "stream",
     "text": [
      "0.9903183436982124\n"
     ]
    }
   ],
   "source": [
    "from sklearn.linear_model import LinearRegression\n",
    "\n",
    "lr = LinearRegression()\n",
    "lr.fit(train_poly, train_target)\n",
    "print(lr.score(train_poly, train_target))"
   ]
  },
  {
   "cell_type": "code",
   "execution_count": 11,
   "id": "0acf6229",
   "metadata": {},
   "outputs": [
    {
     "name": "stdout",
     "output_type": "stream",
     "text": [
      "0.9714559911594159\n"
     ]
    }
   ],
   "source": [
    "print(lr.score(test_poly, test_target))"
   ]
  },
  {
   "cell_type": "code",
   "execution_count": 12,
   "id": "6c872c9b",
   "metadata": {},
   "outputs": [],
   "source": [
    "poly = PolynomialFeatures(degree=5, include_bias=False)\n",
    "\n",
    "poly.fit(train_input)\n",
    "train_poly = poly.transform(train_input)\n",
    "test_poly = poly.transform(test_input)"
   ]
  },
  {
   "cell_type": "code",
   "execution_count": 13,
   "id": "c3f27bf3",
   "metadata": {},
   "outputs": [
    {
     "name": "stdout",
     "output_type": "stream",
     "text": [
      "(42, 55)\n"
     ]
    }
   ],
   "source": [
    "print(train_poly.shape)"
   ]
  },
  {
   "cell_type": "markdown",
   "id": "361b9ada",
   "metadata": {},
   "source": [
    "각 피쳐의 5차항까지 만들도록 지정할 경우, 55개의 피쳐가 생성됨"
   ]
  },
  {
   "cell_type": "code",
   "execution_count": 14,
   "id": "d44be34a",
   "metadata": {},
   "outputs": [
    {
     "name": "stdout",
     "output_type": "stream",
     "text": [
      "0.9999999999997811\n"
     ]
    }
   ],
   "source": [
    "lr.fit(train_poly, train_target)\n",
    "print(lr.score(train_poly, train_target))"
   ]
  },
  {
   "cell_type": "code",
   "execution_count": 15,
   "id": "f51ca23e",
   "metadata": {},
   "outputs": [
    {
     "name": "stdout",
     "output_type": "stream",
     "text": [
      "-144.4051193329733\n"
     ]
    }
   ],
   "source": [
    "print(lr.score(test_poly, test_target))"
   ]
  },
  {
   "cell_type": "markdown",
   "id": "c110b9e7",
   "metadata": {},
   "source": [
    "### 테스트 스코어가 음수인 이유\n",
    "- 피쳐의 개수를 많이 사용할수록 선형 모델이 강력해지는건 맞음. 훈련셋에 대해 거의 완벽하게 학습할 수 있음\n",
    "    - 다만, 너무 과하게 사용할수록 훈련셋에 점점 오버피팅됨\n",
    "    - 즉 위 결과에서 음수가 나오는 이유는, 모델이 훈련셋에 너무 과적합되어있기 때문\n",
    "    - 규제(Regularization)를 통해 오버피팅을 방지할 수 있음"
   ]
  },
  {
   "cell_type": "markdown",
   "id": "5261c9b8",
   "metadata": {},
   "source": [
    "---\n",
    "# Regularization\n",
    "- 선형 회귀에서의 규제는, 피쳐에 곱해지는 계수(또는 기울기)의 크기를 작게 만드는 것\n",
    "- 피쳐의 스케일을 정규화시키지 않으면, 여기에 곱해지는 계수값에 대해서도 차이가 발생 → 피쳐마다 곱해지는 계수값에 대해 각각 차이가 클수록 어떤 피쳐에 대해서는 크게크게 바뀌고, 어떤 피쳐는 아무리 많이 훈련해도 잘 바뀌지 않게됨\n",
    "- 앞선 예시인 K-최근접 이웃 회귀(`KNeighborRegression`)에서 특성값을 정규화시켰던것처럼, 이번에도 각 피쳐를 정규화시켜 해결하자.\n",
    "    - 직접 정규화시키는게 어렵진 않지만, 요번에는 사이킷런에서 제공하는 클래스(`StandardScaler`)를 통해 정규화시켜보자.\n",
    "    - 다시 한번 상기시켜야하는 점은, 새롭게 들어오는 샘플(테스트셋)에 대해서도 정규화가 이루어져야 함.\n",
    "- 선형 회귀에서 규제를 추가한 모델은 크게 릿지 회귀와 라쏘 회귀가 있음\n",
    "    - 릿지 회귀(Ridge Regression): 계수의 제곱한 값을 기준으로 규제를 적용\n",
    "    - 라쏘 회귀(Lasso Regression): 계수의 절댓값을 기준으로 규제를 적용"
   ]
  },
  {
   "cell_type": "code",
   "execution_count": 16,
   "id": "56add09c",
   "metadata": {},
   "outputs": [],
   "source": [
    "from sklearn.preprocessing import StandardScaler\n",
    "\n",
    "ss = StandardScaler()\n",
    "ss.fit(train_poly)\n",
    "\n",
    "train_scaled = ss.transform(train_poly)\n",
    "test_scaled = ss.transform(test_poly)"
   ]
  },
  {
   "cell_type": "markdown",
   "id": "d21b19e4",
   "metadata": {},
   "source": [
    "### 릿지 회귀"
   ]
  },
  {
   "cell_type": "code",
   "execution_count": 17,
   "id": "c54777cb",
   "metadata": {},
   "outputs": [
    {
     "name": "stdout",
     "output_type": "stream",
     "text": [
      "train score:  0.9896101671037343\n",
      "test score:  0.979069397761538\n"
     ]
    }
   ],
   "source": [
    "from sklearn.linear_model import Ridge\n",
    "\n",
    "ridge = Ridge()\n",
    "ridge.fit(train_scaled, train_target)\n",
    "print(\"train score: \", ridge.score(train_scaled, train_target))\n",
    "print(\"test score: \", ridge.score(test_scaled, test_target))"
   ]
  },
  {
   "cell_type": "markdown",
   "id": "1114d1eb",
   "metadata": {},
   "source": [
    "훈련셋에 대한 점수가 조금 떨어지긴 했으나, 테스트셋에 대한 점수가 정상적으로 돌아왔음 → 오버피팅을 방지함으로써 얻어낸 결과"
   ]
  },
  {
   "cell_type": "markdown",
   "id": "b933b615",
   "metadata": {},
   "source": [
    "##### 최적의 `alpha`값 찾기\n",
    "- `alpha`값은 규제의 정도를 지정하는 값\n",
    "    - 값이 작으면 규제 강도가 약해짐 → 계수값을 조금만 줄이고 훈련셋에 핏해진다.\n",
    "    - 값이 클수록 규제 강도가 세짐 → 계수값을 더 큰 폭으로 줄이고, 훈련셋에 핏해진다기보단, 전체적인 경향만 적당히 따라간다."
   ]
  },
  {
   "cell_type": "code",
   "execution_count": 18,
   "id": "9dbfa344",
   "metadata": {},
   "outputs": [],
   "source": [
    "import matplotlib.pyplot as plt\n",
    "\n",
    "train_score = []\n",
    "test_score = []\n",
    "\n",
    "alpha_list = [0.001, 0.01, 0.1, 1, 10, 100]\n",
    "for alpha in alpha_list:\n",
    "    ridge = Ridge(alpha=alpha)\n",
    "    ridge.fit(train_scaled, train_target)\n",
    "    train_score.append(ridge.score(train_scaled, train_target))\n",
    "    test_score.append(ridge.score(test_scaled, test_target))"
   ]
  },
  {
   "cell_type": "code",
   "execution_count": 19,
   "id": "a88e4dcb",
   "metadata": {},
   "outputs": [
    {
     "data": {
      "image/png": "[encoded data removed]",
      "text/plain": [
       "<Figure size 640x480 with 1 Axes>"
      ]
     },
     "metadata": {},
     "output_type": "display_data"
    }
   ],
   "source": [
    "plt.plot(alpha_list, train_score, label=\"train's R^2\")\n",
    "plt.plot(alpha_list, test_score, label=\"test's R^2\")\n",
    "plt.xscale('log') # x축은 값의 범위가 너무 넓으므로, 로그 스케일로 나타내자.\n",
    "plt.xlabel('alpha')\n",
    "plt.ylabel('R^2')\n",
    "plt.legend()\n",
    "plt.show()"
   ]
  },
  {
   "cell_type": "markdown",
   "id": "03a6232e",
   "metadata": {},
   "source": [
    "- 왼쪽: 규제 강도가 약함 → 훈련셋은 매우 잘 맞추지만 새로운 데이터에 대해서는 못맞춤\n",
    "- 오른쪽: 규제 강도가 강함 → 훈련셋은 좀 덜 맞추지만 새로운 데이터에 대해서도 꽤 잘 맞춤"
   ]
  },
  {
   "cell_type": "markdown",
   "id": "7084d2b7",
   "metadata": {},
   "source": [
    "최적의 `alpha`값으로 모델 다시 세팅하기"
   ]
  },
  {
   "cell_type": "code",
   "execution_count": 20,
   "id": "bfa48cef",
   "metadata": {},
   "outputs": [
    {
     "name": "stdout",
     "output_type": "stream",
     "text": [
      "0.9903815817570365\n",
      "0.9827976465386943\n"
     ]
    }
   ],
   "source": [
    "ridge = Ridge(alpha=0.1)\n",
    "ridge.fit(train_scaled, train_target)\n",
    "\n",
    "print(ridge.score(train_scaled, train_target))\n",
    "print(ridge.score(test_scaled, test_target))"
   ]
  },
  {
   "cell_type": "markdown",
   "id": "3b2bfee3",
   "metadata": {},
   "source": [
    "### 라쏘 회귀"
   ]
  },
  {
   "cell_type": "code",
   "execution_count": 21,
   "id": "c793e577",
   "metadata": {},
   "outputs": [
    {
     "name": "stdout",
     "output_type": "stream",
     "text": [
      "train score:  0.989789897208096\n",
      "test score:  0.9800593698421886\n"
     ]
    }
   ],
   "source": [
    "from sklearn.linear_model import Lasso\n",
    "\n",
    "lasso = Lasso()\n",
    "lasso.fit(train_scaled, train_target)\n",
    "print(\"train score: \", lasso.score(train_scaled, train_target))\n",
    "print(\"test score: \", lasso.score(test_scaled, test_target))"
   ]
  },
  {
   "cell_type": "markdown",
   "id": "b4a4e323",
   "metadata": {},
   "source": [
    "라쏘 회귀 또한 릿지 회귀와 마찬가지로 alpha값을 조절함으로써 규제 강도를 조절할 수 있음"
   ]
  },
  {
   "cell_type": "code",
   "execution_count": 22,
   "id": "4e32748e",
   "metadata": {},
   "outputs": [
    {
     "name": "stderr",
     "output_type": "stream",
     "text": [
      "/Users/hong/anaconda3/envs/AI_Tech_project1/lib/python3.12/site-packages/sklearn/linear_model/_coordinate_descent.py:695: ConvergenceWarning: Objective did not converge. You might want to increase the number of iterations, check the scale of the features or consider increasing regularisation. Duality gap: 1.878e+04, tolerance: 5.183e+02\n",
      "  model = cd_fast.enet_coordinate_descent(\n",
      "/Users/hong/anaconda3/envs/AI_Tech_project1/lib/python3.12/site-packages/sklearn/linear_model/_coordinate_descent.py:695: ConvergenceWarning: Objective did not converge. You might want to increase the number of iterations, check the scale of the features or consider increasing regularisation. Duality gap: 1.297e+04, tolerance: 5.183e+02\n",
      "  model = cd_fast.enet_coordinate_descent(\n"
     ]
    }
   ],
   "source": [
    "train_score = []\n",
    "test_score = []\n",
    "\n",
    "alpha_list = [0.001, 0.01, 0.1, 1, 10, 100]\n",
    "for alpha in alpha_list:\n",
    "    lasso = Lasso(alpha=alpha, max_iter=10000)\n",
    "    lasso.fit(train_scaled, train_target)\n",
    "    \n",
    "    train_score.append(lasso.score(train_scaled, train_target))\n",
    "    test_score.append(lasso.score(test_scaled, test_target))"
   ]
  },
  {
   "cell_type": "code",
   "execution_count": 23,
   "id": "be4285c3",
   "metadata": {},
   "outputs": [
    {
     "data": {
      "image/png": "[encoded data removed]",
      "text/plain": [
       "<Figure size 640x480 with 1 Axes>"
      ]
     },
     "metadata": {},
     "output_type": "display_data"
    }
   ],
   "source": [
    "plt.plot(alpha_list, train_score, label=\"train's R^2\")\n",
    "plt.plot(alpha_list, test_score, label=\"test's R^2\")\n",
    "plt.xscale('log')\n",
    "plt.xlabel('alpha')\n",
    "plt.ylabel('R^2')\n",
    "plt.legend()\n",
    "plt.show()"
   ]
  },
  {
   "cell_type": "code",
   "execution_count": 24,
   "id": "79e61cb8",
   "metadata": {},
   "outputs": [
    {
     "name": "stdout",
     "output_type": "stream",
     "text": [
      "train score:  0.9888067471131866\n",
      "test score:  0.9824470598706695\n"
     ]
    }
   ],
   "source": [
    "lasso = Lasso(alpha=10)\n",
    "lasso.fit(train_scaled, train_target)\n",
    "\n",
    "print(\"train score: \", lasso.score(train_scaled, train_target))\n",
    "print(\"test score: \", lasso.score(test_scaled, test_target))"
   ]
  },
  {
   "cell_type": "markdown",
   "id": "7f679747",
   "metadata": {},
   "source": [
    "##### 🧐 릿지 회귀랑 다르게 왜 라쏘 회귀에서는 규제 강도가 커질수록 성능이 크게 바뀔까\n",
    "\n",
    "👉"
   ]
  },
  {
   "cell_type": "markdown",
   "id": "cfee47d2",
   "metadata": {},
   "source": [
    "- 라쏘 회귀는 계수를 아예 0으로 만들어버리기도 하는데, 계수가 0인 피쳐를 확인하려면 `.coef_`메서드를 활용하면 된다.\n",
    "- 라쏘 회귀의 이러한 특성을 이용해, 실질적으로 유용한 피쳐를 골라내는식으로 응용할수도 있다."
   ]
  },
  {
   "cell_type": "code",
   "execution_count": 30,
   "id": "62ded951",
   "metadata": {},
   "outputs": [
    {
     "name": "stdout",
     "output_type": "stream",
     "text": [
      "40\n"
     ]
    }
   ],
   "source": [
    "print(np.sum(lasso.coef_ == 0)) # 계수가 0인 피쳐의 개수"
   ]
  }
 ],
 "metadata": {
  "kernelspec": {
   "display_name": "AI_Tech_project1",
   "language": "python",
   "name": "python3"
  },
  "language_info": {
   "codemirror_mode": {
    "name": "ipython",
    "version": 3
   },
   "file_extension": ".py",
   "mimetype": "text/x-python",
   "name": "python",
   "nbconvert_exporter": "python",
   "pygments_lexer": "ipython3",
   "version": "3.12.0"
  }
 },
 "nbformat": 4,
 "nbformat_minor": 5
}
