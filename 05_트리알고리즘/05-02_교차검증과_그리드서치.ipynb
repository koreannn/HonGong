{
 "cells": [
  {
   "cell_type": "code",
   "execution_count": 2,
   "id": "ee2f3b07",
   "metadata": {},
   "outputs": [],
   "source": [
    "import pandas as pd\n",
    "\n",
    "wine = pd.read_csv(\"https://bit.ly/wine_csv_data\")\n",
    "\n",
    "input_data = wine[['alcohol', 'sugar', 'pH']]\n",
    "target = wine['class']\n"
   ]
  },
  {
   "cell_type": "markdown",
   "id": "cd3990ba",
   "metadata": {},
   "source": [
    "##### Validation Set\n",
    "- 모델 학습 이후의 성능 평가는 검증셋을 통해 한다."
   ]
  },
  {
   "cell_type": "code",
   "execution_count": 5,
   "id": "c8788499",
   "metadata": {},
   "outputs": [
    {
     "name": "stdout",
     "output_type": "stream",
     "text": [
      "(5197, 3)\n",
      "(1300, 3)\n",
      "--Make Validation Set--\n",
      "(4157, 3)\n",
      "(1040, 3)\n"
     ]
    }
   ],
   "source": [
    "from sklearn.model_selection import train_test_split\n",
    "\n",
    "train_input, test_input, train_target, test_target = train_test_split(\n",
    "    input_data, target, test_size=0.2, random_state=42\n",
    ")\n",
    "\n",
    "print(train_input.shape)\n",
    "print(test_input.shape)\n",
    "\n",
    "# 훈련셋에서 검증셋을 다시 분리\n",
    "train_input, val_input, train_target, val_target = train_test_split(\n",
    "    train_input, train_target, test_size=0.2, random_state=42\n",
    ")\n",
    "print('--Make Validation Set--')\n",
    "print(train_input.shape)\n",
    "print(val_input.shape)"
   ]
  },
  {
   "cell_type": "code",
   "execution_count": 6,
   "id": "5b18b1c7",
   "metadata": {},
   "outputs": [
    {
     "name": "stdout",
     "output_type": "stream",
     "text": [
      "0.9971133028626413\n",
      "0.8615384615384616\n"
     ]
    }
   ],
   "source": [
    "from sklearn.tree import DecisionTreeClassifier\n",
    "\n",
    "dt = DecisionTreeClassifier()\n",
    "dt.fit(train_input, train_target)\n",
    "print(dt.score(train_input, train_target))\n",
    "print(dt.score(val_input, val_target))"
   ]
  },
  {
   "cell_type": "markdown",
   "id": "c62a2cb4",
   "metadata": {},
   "source": [
    "👉 훈련셋에 오버피팅되어있을 확률이 높음\n",
    "\n",
    "- 매개변수를 바꿔서 좀 더 좋은 모델을 찾아야 한다."
   ]
  },
  {
   "cell_type": "markdown",
   "id": "9f0f8026",
   "metadata": {},
   "source": [
    "---\n",
    "# 교차 검증(Cross Validation)\n",
    "- 뭐가 됐든 일단 훈련 데이터를 많이 사용해야 좋은 모델이 만들어짐.\n",
    "    - 검증셋을 만드느라 훈련 데이터가 줄어들었음\n",
    "    - 그렇다고 검증셋의 양을 줄이면 측정하는 모델의 성능이 들쑥날쑥해질것임\n",
    "    - 이를 해결하기 위한 방법이 검증셋의 양은 그대로 두고, 서로 다른 여러 검증셋을 통해 모델 성능을 측정하는 방식(Cross Validation)\n",
    "        - K-Fold Cross Validation: 훈련 셋을 K개로 쪼개어, K개의 검증셋을 순차적으로 각각의 검증셋으로 활용하는 방식"
   ]
  },
  {
   "cell_type": "code",
   "execution_count": 7,
   "id": "923c3b60",
   "metadata": {},
   "outputs": [
    {
     "name": "stdout",
     "output_type": "stream",
     "text": [
      "{'fit_time': array([0.0049839 , 0.00494504, 0.00574613, 0.00542593, 0.00481677]), 'score_time': array([0.00095701, 0.00076795, 0.00081897, 0.0009253 , 0.00096798]), 'test_score': array([0.86826923, 0.85288462, 0.87006737, 0.85466795, 0.84119346])}\n"
     ]
    }
   ],
   "source": [
    "from sklearn.model_selection import cross_validate\n",
    "\n",
    "train_input, test_input, train_target, test_target = train_test_split(\n",
    "    input_data, target, test_size=0.2, random_state=42\n",
    ")\n",
    "\n",
    "scores = cross_validate(dt, train_input, train_target)\n",
    "print(scores)"
   ]
  },
  {
   "cell_type": "markdown",
   "id": "c8350b88",
   "metadata": {},
   "source": [
    "- 각 value값이 5개씩 있는것으로 볼 때, 기본 폴드값은 5라는것을 알 수 있음\n",
    "- `fit_time`은 훈련시간, `score_time`은 검증하는 시간을 의미함\n",
    "- `test_score`는 각각의 테스트셋에 대한 점수로, 이 값의 평균값이 모델의 최종 성능임"
   ]
  },
  {
   "cell_type": "code",
   "execution_count": 8,
   "id": "db7ab811",
   "metadata": {},
   "outputs": [
    {
     "name": "stdout",
     "output_type": "stream",
     "text": [
      "0.8574165247649367\n"
     ]
    }
   ],
   "source": [
    "import numpy as np\n",
    "\n",
    "print(np.mean(scores['test_score']))"
   ]
  },
  {
   "cell_type": "markdown",
   "id": "882c56aa",
   "metadata": {},
   "source": [
    "- 주의해야하는 점은, `cross_validate()`는 훈련셋을 섞어서 폴드를 나누는게 아니라, 그냥 있는대로 나눈다.\n",
    "- 앞선 `train_test_split()`은 처음에 데이터를 섞고 나서 데이터를 분리했기 때문에 상관 없는데, 교차 검증에서 데이터를 섞기 위해서는 분할기(splitter)를 지정해야한다.\n",
    "    - `cross_validate()`함수는 일반적으로 회귀 모델의 경우 `KFold`분할기, 분류 모델의 경우 타겟 클래스를 골고루 나누기 위해 `StratifiedKFold`를 사용한다. 사용은 아래와 같다."
   ]
  },
  {
   "cell_type": "code",
   "execution_count": 9,
   "id": "61cfe1ee",
   "metadata": {},
   "outputs": [
    {
     "name": "stdout",
     "output_type": "stream",
     "text": [
      "0.8587641593247947\n"
     ]
    }
   ],
   "source": [
    "from sklearn.model_selection import StratifiedKFold\n",
    "\n",
    "scores = cross_validate(dt, train_input, train_target, cv=StratifiedKFold())\n",
    "print(np.mean(scores['test_score']))"
   ]
  },
  {
   "cell_type": "code",
   "execution_count": 10,
   "id": "c3c8def8",
   "metadata": {},
   "outputs": [
    {
     "name": "stdout",
     "output_type": "stream",
     "text": [
      "0.854726915666222\n"
     ]
    }
   ],
   "source": [
    "splitter = StratifiedKFold(n_splits=10, shuffle=True, random_state=42)\n",
    "scores = cross_validate(dt, train_input, train_target, cv=splitter)\n",
    "print(np.mean(scores['test_score']))"
   ]
  },
  {
   "cell_type": "markdown",
   "id": "5cf80eb7",
   "metadata": {},
   "source": [
    "---\n",
    "# 하이퍼 파라미터 튜닝\n",
    "- 모델마다 여러 하이퍼 파라미터값이 존재하는데, 각 하이퍼 파라미터값에 대한 모델의 성능은 하이퍼 파라미터들의 복합적인 관계를 통해 좌우되기때문에 복잡함\n",
    "- 사이킷런에서는 최적의 하이퍼 파라미터 조합을 찾기 위한 클래스로 그리드서치(`GridSearch`)를 제공"
   ]
  }
 ],
 "metadata": {
  "kernelspec": {
   "display_name": "AI_Tech_project1",
   "language": "python",
   "name": "python3"
  },
  "language_info": {
   "codemirror_mode": {
    "name": "ipython",
    "version": 3
   },
   "file_extension": ".py",
   "mimetype": "text/x-python",
   "name": "python",
   "nbconvert_exporter": "python",
   "pygments_lexer": "ipython3",
   "version": "3.12.0"
  }
 },
 "nbformat": 4,
 "nbformat_minor": 5
}
