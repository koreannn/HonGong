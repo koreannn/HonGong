{
 "cells": [
  {
   "cell_type": "markdown",
   "id": "cb76b416",
   "metadata": {},
   "source": [
    "- 챕터 5까지는 입력과 타겟값이 준비되는 지도학습(Supervised Learning)에 대해서만 다루었고, 이번 챕터부터는 별도의 타겟이 없는 비지도 학습에 대해 다룸"
   ]
  }
 ],
 "metadata": {
  "language_info": {
   "name": "python"
  }
 },
 "nbformat": 4,
 "nbformat_minor": 5
}
